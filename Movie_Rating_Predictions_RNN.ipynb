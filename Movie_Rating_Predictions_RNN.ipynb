{
  "nbformat": 4,
  "nbformat_minor": 0,
  "metadata": {
    "colab": {
      "name": "Movie Rating Predictions RNN.ipynb",
      "provenance": [],
      "collapsed_sections": []
    },
    "kernelspec": {
      "name": "python3",
      "display_name": "Python 3"
    },
    "accelerator": "GPU"
  },
  "cells": [
    {
      "cell_type": "code",
      "metadata": {
        "id": "I1YV4RYnXVHp",
        "colab_type": "code",
        "colab": {}
      },
      "source": [
        "from keras.datasets import imdb\n"
      ],
      "execution_count": 0,
      "outputs": []
    },
    {
      "cell_type": "code",
      "metadata": {
        "id": "-ettQ6xDXbGa",
        "colab_type": "code",
        "colab": {}
      },
      "source": [
        "data = imdb.load_data(num_words= 10000)\n",
        "word_idx = imdb.get_word_index()"
      ],
      "execution_count": 0,
      "outputs": []
    },
    {
      "cell_type": "code",
      "metadata": {
        "id": "tO0OWIcXXtr2",
        "colab_type": "code",
        "colab": {}
      },
      "source": [
        "idx_word = dict([(keys,values) for (values,keys) in word_idx.items()])"
      ],
      "execution_count": 0,
      "outputs": []
    },
    {
      "cell_type": "code",
      "metadata": {
        "id": "MBzd01KAYK_B",
        "colab_type": "code",
        "colab": {}
      },
      "source": [
        "((xtrain,ytrain),(xtest,ytest)) = data"
      ],
      "execution_count": 0,
      "outputs": []
    },
    {
      "cell_type": "code",
      "metadata": {
        "id": "y89cIAV6YiIg",
        "colab_type": "code",
        "colab": {}
      },
      "source": [
        "actual_review = ' '.join([idx_word.get(idx-3,'?') for idx in xtrain[0]])"
      ],
      "execution_count": 0,
      "outputs": []
    },
    {
      "cell_type": "code",
      "metadata": {
        "id": "iWjyXJAMZ39n",
        "colab_type": "code",
        "colab": {}
      },
      "source": [
        "import numpy as np\n",
        "y_train = np.asarray(ytrain).astype(float)\n",
        "y_test = np.asarray(ytest).astype(float)"
      ],
      "execution_count": 0,
      "outputs": []
    },
    {
      "cell_type": "code",
      "metadata": {
        "id": "e7dyfOMFaptM",
        "colab_type": "code",
        "colab": {}
      },
      "source": [
        "from keras.models import Sequential\n",
        "from keras.layers import *"
      ],
      "execution_count": 0,
      "outputs": []
    },
    {
      "cell_type": "markdown",
      "metadata": {
        "id": "9jrLLM6LcYwL",
        "colab_type": "text"
      },
      "source": [
        "Creating a 2D tensor Processed by the embedding layer"
      ]
    },
    {
      "cell_type": "code",
      "metadata": {
        "id": "PAuDKYqEbRhs",
        "colab_type": "code",
        "colab": {}
      },
      "source": [
        "from keras.preprocessing import sequence\n",
        "\n",
        "xtr = sequence.pad_sequences(xtrain,maxlen = 500)\n",
        "xte = sequence.pad_sequences(xtest,maxlen = 500)"
      ],
      "execution_count": 0,
      "outputs": []
    },
    {
      "cell_type": "code",
      "metadata": {
        "id": "zsRMDEnmeGAs",
        "colab_type": "code",
        "colab": {
          "base_uri": "https://localhost:8080/",
          "height": 252
        },
        "outputId": "8341976e-cd73-4047-8363-1afbb12ca9ca"
      },
      "source": [
        "model = Sequential()\n",
        "model.add(Embedding(10000,64))\n",
        "model.add(SimpleRNN(32))\n",
        "model.add(Dense(1,activation='sigmoid'))\n",
        "model.summary()"
      ],
      "execution_count": 42,
      "outputs": [
        {
          "output_type": "stream",
          "text": [
            "Model: \"sequential_3\"\n",
            "_________________________________________________________________\n",
            "Layer (type)                 Output Shape              Param #   \n",
            "=================================================================\n",
            "embedding_3 (Embedding)      (None, None, 64)          640000    \n",
            "_________________________________________________________________\n",
            "simple_rnn_3 (SimpleRNN)     (None, 32)                3104      \n",
            "_________________________________________________________________\n",
            "dense_3 (Dense)              (None, 1)                 33        \n",
            "=================================================================\n",
            "Total params: 643,137\n",
            "Trainable params: 643,137\n",
            "Non-trainable params: 0\n",
            "_________________________________________________________________\n"
          ],
          "name": "stdout"
        }
      ]
    },
    {
      "cell_type": "code",
      "metadata": {
        "id": "Y2PIRsXAeaCX",
        "colab_type": "code",
        "colab": {
          "base_uri": "https://localhost:8080/",
          "height": 272
        },
        "outputId": "50502749-706a-4638-bd77-e39adc9e20d8"
      },
      "source": [
        "model.compile(optimizer = 'rmsprop',loss = 'binary_crossentropy',metrics = ['acc'])\n",
        "from keras.callbacks import ModelCheckpoint,EarlyStopping\n",
        "checkpoints = ModelCheckpoint(\"bestModel.h5\",monitor = \"val_loss\",save_best_only = True,save_weights_only =False,mode = 'auto',period = 1)\n",
        "earlystop = EarlyStopping(monitor = 'val_acc',patience = 1)\n",
        "model.fit(xtr,y_train,validation_split=0.2,epochs = 10,batch_size=128,callbacks=[checkpoints,earlystop])"
      ],
      "execution_count": 43,
      "outputs": [
        {
          "output_type": "stream",
          "text": [
            "Train on 20000 samples, validate on 5000 samples\n",
            "Epoch 1/10\n",
            "20000/20000 [==============================] - 40s 2ms/step - loss: 0.5516 - acc: 0.7058 - val_loss: 0.4435 - val_acc: 0.8026\n",
            "Epoch 2/10\n",
            "20000/20000 [==============================] - 39s 2ms/step - loss: 0.3444 - acc: 0.8582 - val_loss: 0.4855 - val_acc: 0.8186\n",
            "Epoch 3/10\n",
            "20000/20000 [==============================] - 40s 2ms/step - loss: 0.2541 - acc: 0.9012 - val_loss: 0.3646 - val_acc: 0.8486\n",
            "Epoch 4/10\n",
            "20000/20000 [==============================] - 39s 2ms/step - loss: 0.1881 - acc: 0.9302 - val_loss: 0.3508 - val_acc: 0.8672\n",
            "Epoch 5/10\n",
            "20000/20000 [==============================] - 38s 2ms/step - loss: 0.1183 - acc: 0.9578 - val_loss: 0.3785 - val_acc: 0.8682\n",
            "Epoch 6/10\n",
            "20000/20000 [==============================] - 39s 2ms/step - loss: 0.0695 - acc: 0.9777 - val_loss: 0.4296 - val_acc: 0.8638\n"
          ],
          "name": "stdout"
        },
        {
          "output_type": "execute_result",
          "data": {
            "text/plain": [
              "<keras.callbacks.History at 0x7f31b1c35ac8>"
            ]
          },
          "metadata": {
            "tags": []
          },
          "execution_count": 43
        }
      ]
    },
    {
      "cell_type": "code",
      "metadata": {
        "id": "hxiDG03hhi7o",
        "colab_type": "code",
        "colab": {
          "base_uri": "https://localhost:8080/",
          "height": 84
        },
        "outputId": "dffa34ee-b39d-4ce8-f27c-25212bd35416"
      },
      "source": [
        "model.load_weights(\"bestModel.h5\")\n",
        "print(model.evaluate(xtr,y_train))\n",
        "print(model.evaluate(xte,y_test))"
      ],
      "execution_count": 44,
      "outputs": [
        {
          "output_type": "stream",
          "text": [
            "25000/25000 [==============================] - 30s 1ms/step\n",
            "[0.14817979095458986, 0.94812]\n",
            "25000/25000 [==============================] - 30s 1ms/step\n",
            "[0.37441977142810823, 0.85704]\n"
          ],
          "name": "stdout"
        }
      ]
    },
    {
      "cell_type": "code",
      "metadata": {
        "id": "yY-MbmzWjLZQ",
        "colab_type": "code",
        "colab": {}
      },
      "source": [
        ""
      ],
      "execution_count": 0,
      "outputs": []
    }
  ]
}